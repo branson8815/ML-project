{
 "cells": [
  {
   "cell_type": "code",
   "execution_count": null,
   "metadata": {},
   "outputs": [],
   "source": [
    "import pandas as pd\n",
    "import numpy as np\n",
    "from sklearn.linear_model import LogisticRegression\n",
    "from sklearn import datasets\n",
    "from sklearn.ensemble import RandomForestClassifier\n",
    "from sklearn.preprocessing import OneHotEncoder\n",
    "from sklearn.preprocessing import LabelEncoder"
   ]
  },
  {
   "cell_type": "code",
   "execution_count": null,
   "metadata": {},
   "outputs": [],
   "source": [
    "data = pd.read_csv('credit+approval/crx.data')\n",
    "\n",
    "d1 = data.columns\n",
    "l1 = []\n",
    "x = 1\n",
    "for i in range(len(d1)):\n",
    "    \n",
    "    \n",
    "    y = 'A'\n",
    "    \n",
    "    l1.append(y+str(x))\n",
    "    x = x + 1\n",
    "    \n",
    "   \n",
    "\n",
    "l1\n",
    "\n",
    "data.columns = l1\n",
    "# data.columns[-1] = 'TARGET'\n",
    "data = data.rename(columns = {'A16': 'TARGET'})\n",
    "data\n",
    "\n"
   ]
  },
  {
   "cell_type": "code",
   "execution_count": null,
   "metadata": {},
   "outputs": [],
   "source": [
    "categorical_cols = ['A1', 'A4', 'A5', 'A6', \n",
    "                         'A7', 'A9', 'A10', 'A12', \n",
    "                         'A13', 'TARGET']\n",
    "\n"
   ]
  },
  {
   "cell_type": "code",
   "execution_count": null,
   "metadata": {},
   "outputs": [],
   "source": [
    "d_array = np.array(data)\n",
    "\n"
   ]
  },
  {
   "cell_type": "code",
   "execution_count": null,
   "metadata": {},
   "outputs": [],
   "source": [
    "class Logreg:\n",
    "    def __init__(self, data, )"
   ]
  },
  {
   "cell_type": "code",
   "execution_count": null,
   "metadata": {},
   "outputs": [],
   "source": [
    "label_e = LabelEncoder()\n",
    "for i in categorical_cols:\n",
    "    data[i] = label_e.fit_transform(data[i])\n",
    "\n",
    "\n",
    "random_list = []\n",
    "\n"
   ]
  },
  {
   "cell_type": "code",
   "execution_count": null,
   "metadata": {},
   "outputs": [],
   "source": [
    "another_random_list = [1,2,3,4,5]\n",
    "random_list_again = [1,2,3,4,5]\n",
    "\n",
    "another_random_list + random_list_again"
   ]
  }
 ],
 "metadata": {
  "kernelspec": {
   "display_name": "Python 3",
   "language": "python",
   "name": "python3"
  },
  "language_info": {
   "codemirror_mode": {
    "name": "ipython",
    "version": 3
   },
   "file_extension": ".py",
   "mimetype": "text/x-python",
   "name": "python",
   "nbconvert_exporter": "python",
   "pygments_lexer": "ipython3",
   "version": "3.12.0"
  }
 },
 "nbformat": 4,
 "nbformat_minor": 2
}
